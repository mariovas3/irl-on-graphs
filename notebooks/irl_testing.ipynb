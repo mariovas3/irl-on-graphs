{
 "cells": [
  {
   "cell_type": "code",
   "execution_count": 1,
   "metadata": {},
   "outputs": [
    {
     "name": "stdout",
     "output_type": "stream",
     "text": [
      "tensor(-45.5960, grad_fn=<AddBackward0>) torch.Size([3, 70])\n",
      "70 138 140 [ 26  24  28  36  72 100 134  12 128 116  68 110 124 118  30 120  84 104\n",
      "  44  34  76  98  32  66  60 114 132   0   8  16  10   2  48  42  14 112\n",
      " 130  88  62 126  52  96 106  82  90  18  78  70   6  58  40  92 102  46\n",
      "  50  38  54   4  80  94  56 138  74 136 108  20  22  64  86 122]\n",
      "140\n",
      "\n",
      "(26, 27, 24, 25, 28, 29, 36, 37, 72, 73, 100, 101, 134, 135, 12, 13, 128, 129, 116, 117, 68, 69, 110, 111, 124, 125, 118, 119, 30, 31, 120, 121, 84, 85, 104, 105, 44, 45, 34, 35, 76, 77, 98, 99, 32, 33, 66, 67, 60, 61, 114, 115, 132, 133, 0, 1, 8, 9, 16, 17, 10, 11, 2, 3, 48, 49, 42, 43, 14, 15, 112, 113, 130, 131, 88, 89, 62, 63, 126, 127, 52, 53, 96, 97, 106, 107, 82, 83, 90, 91, 18, 19, 78, 79, 70, 71, 6, 7, 58, 59, 40, 41, 92, 93, 102, 103, 46, 47, 50, 51, 38, 39, 54, 55, 4, 5, 80, 81, 94, 95, 56, 57, 138, 139, 74, 75, 136, 137, 108, 109, 20, 21, 22, 23, 64, 65, 86, 87, 122, 123)\n",
      "\n",
      "tensor([[13, 14, 12, 13, 14, 15, 18, 19, 36, 37, 50, 51, 67, 68,  6,  7, 64, 65,\n",
      "         58, 59, 34, 35, 55, 56, 62, 63, 59, 60, 15, 16, 60, 61, 42, 43, 52, 53,\n",
      "         22, 23, 17, 18, 38, 39, 49, 50, 16, 17, 33, 34, 30, 31, 57, 58, 66, 67,\n",
      "          0,  1,  4,  5,  8,  9,  5,  6,  1,  2, 24, 25, 21, 22,  7,  8, 56, 57,\n",
      "         65, 66, 44, 45, 31, 32, 63, 64, 26, 27, 48, 49, 53, 54, 41, 42, 45, 46,\n",
      "          9, 10, 39, 40, 35, 36,  3,  4, 29, 30, 20, 21, 46, 47, 51, 52, 23, 24,\n",
      "         25, 26, 19, 20, 27, 28,  2,  3, 40, 41, 47, 48, 28, 29, 69,  0, 37, 38,\n",
      "         68, 69, 54, 55, 10, 11, 11, 12, 32, 33, 43, 44, 61, 62],\n",
      "        [14, 13, 13, 12, 15, 14, 19, 18, 37, 36, 51, 50, 68, 67,  7,  6, 65, 64,\n",
      "         59, 58, 35, 34, 56, 55, 63, 62, 60, 59, 16, 15, 61, 60, 43, 42, 53, 52,\n",
      "         23, 22, 18, 17, 39, 38, 50, 49, 17, 16, 34, 33, 31, 30, 58, 57, 67, 66,\n",
      "          1,  0,  5,  4,  9,  8,  6,  5,  2,  1, 25, 24, 22, 21,  8,  7, 57, 56,\n",
      "         66, 65, 45, 44, 32, 31, 64, 63, 27, 26, 49, 48, 54, 53, 42, 41, 46, 45,\n",
      "         10,  9, 40, 39, 36, 35,  4,  3, 30, 29, 21, 20, 47, 46, 52, 51, 24, 23,\n",
      "         26, 25, 20, 19, 28, 27,  3,  2, 41, 40, 48, 47, 29, 28,  0, 69, 38, 37,\n",
      "         69, 68, 55, 54, 11, 10, 12, 11, 33, 32, 44, 43, 62, 61]])\n"
     ]
    }
   ],
   "source": [
    "import sys\n",
    "from pathlib import Path\n",
    "p = Path('.').absolute().parent\n",
    "if sys.path[-1] != str(p):\n",
    "    sys.path.append(str(p))\n",
    "\n",
    "from graph_irl.reward import GraphReward\n",
    "from graph_irl.policy import GCN\n",
    "from graph_irl.irl_trainer import IRLGraphTrainer\n",
    "from graph_irl.examples import circle_graph\n",
    "\n",
    "import numpy as np\n",
    "import torch\n",
    "np.random.seed(0)\n",
    "torch.manual_seed(0)\n",
    "\n",
    "from torch_geometric.data import Data, Batch\n",
    "\n",
    "import networkx as nx\n",
    "\n",
    "from tqdm import tqdm\n",
    "\n",
    "\n",
    "# circular graph with 7 nodes;\n",
    "n_nodes, node_dim = 11, 5\n",
    "nodes, edge_index = circle_graph(n_nodes, node_dim)\n",
    "\n",
    "encoder_hiddens = [7, 7, 2]\n",
    "encoder = GCN(node_dim, encoder_hiddens, with_layer_norm=True, final_tanh=True)\n",
    "reward_fn = GraphReward(encoder, 2, [13, 11], with_layer_norm=True)\n",
    "\n",
    "traj_batch_size = 250\n",
    "\n",
    "\n",
    "\n",
    "irl_trainer = IRLGraphTrainer(reward_fn, None, None, nodes, edge_index, 3, None, 4)\n",
    "avg_return, rewards = irl_trainer.get_avg_expert_returns()\n",
    "\n",
    "print(avg_return, rewards.shape)\n",
    "\n",
    "# get single permutation of edges in expert;\n",
    "perm = np.random.permutation(range(0, edge_index.shape[-1], 2))\n",
    "print(len(perm), max(perm), edge_index.shape[-1], perm)\n",
    "idxs = sum([(i, i + 1) for i in perm], ())\n",
    "print(len(idxs), idxs, edge_index[:, idxs], sep='\\n\\n')\n",
    "\n",
    "        # \n",
    "        # \n",
    "    # rewards = reward_fn()\n",
    "# perm, idxs\n",
    "# idxs, edge_index[:, idxs]\n",
    "\n",
    "# G = nx.Graph()\n",
    "# G.add_edges_from(list(zip(*edge_index.tolist())))\n",
    "# G.add_nodes_from(range(edge_index.shape[-1] // 2))\n",
    "# nx.draw_networkx(G)\n",
    "\n",
    "\n",
    "\n",
    "\n",
    "\n",
    "\n"
   ]
  },
  {
   "cell_type": "code",
   "execution_count": 24,
   "metadata": {},
   "outputs": [
    {
     "data": {
      "text/plain": [
       "tensor([[-13.2383, -11.2118,  -4.9134,  -1.9987,  -3.2452,  -2.8528,  -6.4627],\n",
       "        [ -7.4922, -26.0197,  -2.4302, -21.3755,  -1.4071,  -5.9361,  -3.5627]],\n",
       "       grad_fn=<AddBackward0>)"
      ]
     },
     "execution_count": 24,
     "metadata": {},
     "output_type": "execute_result"
    }
   ],
   "source": [
    "import sys\n",
    "from pathlib import Path\n",
    "p = Path('.').absolute().parent\n",
    "if sys.path[-1] != str(p):\n",
    "    sys.path.append(str(p))\n",
    "\n",
    "from graph_irl.distributions import GaussDist, TwoStageGaussDist\n",
    "from graph_irl.policy import AmortisedGaussNet, GCN, TwoStageGaussPolicy, GaussPolicy\n",
    "\n",
    "import torch\n",
    "from torch import nn\n",
    "import torch.distributions as dists\n",
    "from torch_geometric.data import Data, Batch\n",
    "\n",
    "\n",
    "nodes = torch.randn((10, 5))\n",
    "edge_index1 = torch.tensor([[], []], dtype=torch.long)\n",
    "edge_index2 = torch.tensor([[0, 1, 1, 2], [1, 0, 2, 1]], dtype=torch.long)\n",
    "batch = Batch.from_data_list([Data(x=nodes, edge_index=edge_index1),\n",
    "                              Data(x=nodes, edge_index=edge_index2)])\n",
    "encoder = GCN(5, [3, 7], with_layer_norm=True, final_tanh=False)\n",
    "tsg_policy = TwoStageGaussPolicy(7, 7, [3, 4], [3, 4], encoder, with_layer_norm=True)\n",
    "d, nodes = tsg_policy(batch)\n",
    "actions = torch.randn((2, 14))\n",
    "d.log_prob(actions[:, :7], actions[:, 7:])"
   ]
  },
  {
   "cell_type": "code",
   "execution_count": 2,
   "metadata": {},
   "outputs": [
    {
     "name": "stdout",
     "output_type": "stream",
     "text": [
      "[7 8 9 0 1]\n",
      "[1. 1. 0. 0. 0. 0. 0. 1. 1. 1.] 2\n"
     ]
    }
   ],
   "source": [
    "import numpy as np\n",
    "# import torch\n",
    "\n",
    "a = np.zeros((10, ))\n",
    "max_size = len(a)\n",
    "idx = 7\n",
    "nums = np.ones((5, ))\n",
    "idxs = (idx + np.arange(len(nums))) % max_size\n",
    "idx = (idxs[-1] + 1) % max_size\n",
    "print(idxs)\n",
    "a[idxs] = nums\n",
    "print(a, idx)"
   ]
  },
  {
   "cell_type": "code",
   "execution_count": 2,
   "metadata": {},
   "outputs": [
    {
     "name": "stdout",
     "output_type": "stream",
     "text": [
      "70 250\n"
     ]
    }
   ],
   "source": [
    "print(n_nodes, traj_batch_size)"
   ]
  },
  {
   "cell_type": "code",
   "execution_count": 4,
   "metadata": {},
   "outputs": [
    {
     "name": "stdout",
     "output_type": "stream",
     "text": [
      "70\n",
      "70\n",
      "tensor(-43.4926, grad_fn=<AddBackward0>) torch.Size([70, 1]) tensor([[-0.7020],\n",
      "        [-0.3095],\n",
      "        [-0.3095],\n",
      "        [-0.6366],\n",
      "        [-0.5339],\n",
      "        [-0.9905],\n",
      "        [-0.3139],\n",
      "        [-0.7757],\n",
      "        [-0.6957],\n",
      "        [-0.5715],\n",
      "        [-1.0406],\n",
      "        [-0.6419],\n",
      "        [-0.5616],\n",
      "        [-0.3155],\n",
      "        [-0.6091],\n",
      "        [-0.3108],\n",
      "        [-0.7229],\n",
      "        [-0.6397],\n",
      "        [-0.5367],\n",
      "        [-0.6582],\n",
      "        [-0.5253],\n",
      "        [-0.6702],\n",
      "        [-0.3271],\n",
      "        [-0.8338],\n",
      "        [-0.3276],\n",
      "        [-1.0177],\n",
      "        [-0.5196],\n",
      "        [-0.6496],\n",
      "        [-0.5722],\n",
      "        [-0.6798],\n",
      "        [-0.5070],\n",
      "        [-0.5295],\n",
      "        [-0.3305],\n",
      "        [-1.1631],\n",
      "        [-0.8875],\n",
      "        [-0.8869],\n",
      "        [-0.3288],\n",
      "        [-0.8078],\n",
      "        [-0.3249],\n",
      "        [-0.3243],\n",
      "        [-0.3239],\n",
      "        [-0.8517],\n",
      "        [-0.5948],\n",
      "        [-0.3196],\n",
      "        [-1.0673],\n",
      "        [-0.9680],\n",
      "        [-0.3243],\n",
      "        [-0.4765],\n",
      "        [-0.5214],\n",
      "        [-0.7723],\n",
      "        [-1.0071],\n",
      "        [-0.4878],\n",
      "        [-0.7502],\n",
      "        [-0.4873],\n",
      "        [-0.3297],\n",
      "        [-1.1448],\n",
      "        [-0.8269],\n",
      "        [-1.2397],\n",
      "        [-0.5202],\n",
      "        [-0.3281],\n",
      "        [-0.3270],\n",
      "        [-1.1838],\n",
      "        [-0.3238],\n",
      "        [-0.8156],\n",
      "        [-0.7380],\n",
      "        [-0.8441],\n",
      "        [-0.3375],\n",
      "        [-0.3361],\n",
      "        [-0.5886],\n",
      "        [-0.5677]], grad_fn=<CatBackward0>)\n"
     ]
    }
   ],
   "source": [
    "# idxs = (12, 13, 4, 5, 2, 3, 6, 7, 0, 1, 10, 11, 8, 9)\n",
    "pointer = 0\n",
    "rewards = []\n",
    "return_val = 0.\n",
    "# print(n_nodes)\n",
    "while pointer * traj_batch_size * 2 < edge_index.shape[-1]:\n",
    "    # print(pointer * traj_batch_size)\n",
    "    batch_list = []\n",
    "    action_idxs = []\n",
    "    for i in range(pointer * traj_batch_size * 2, \n",
    "                            min((pointer + 1) * traj_batch_size * 2, edge_index.shape[-1]), 2):\n",
    "            # print(i)\n",
    "            batch_list.append(\n",
    "                 Data(x=nodes, edge_index=edge_index[:, idxs[pointer * traj_batch_size * 2:i]])\n",
    "            )\n",
    "            \n",
    "            # if i == 0:\n",
    "                #  print(torch.tensor([[], []], dtype=torch.long), \n",
    "                    #    edge_index[:, idxs[pointer * traj_batch_size:i]])\n",
    "                 \n",
    "            first, second = edge_index[0, idxs[i]], edge_index[1, idxs[i]]    \n",
    "            action_idxs.append([first, second])\n",
    "            # \n",
    "            #\n",
    "    print(len(batch_list)) \n",
    "    # print(torch.tensor(action_idxs, dtype=torch.long))\n",
    "        # ]\n",
    "    # if pointer == 0:\n",
    "        # temp = torch.tensor([[], []], dtype=torch.long)\n",
    "        # batch_list = [Data(x=nodes, edge_index=temp)] + batch_list\n",
    "    batch = Batch.from_data_list(batch_list)\n",
    "    print(batch.num_graphs)\n",
    "    pointer += 1\n",
    "    curr_rewards = reward_fn((batch, torch.tensor(action_idxs, dtype=torch.long)), action_is_index=True)\n",
    "    return_val += curr_rewards.sum()\n",
    "    rewards.append(curr_rewards)\n",
    "print(return_val, rewards[0].shape, torch.cat(rewards, 0))"
   ]
  },
  {
   "cell_type": "code",
   "execution_count": 6,
   "metadata": {},
   "outputs": [
    {
     "data": {
      "text/plain": [
       "tensor([[0, 1, 2],\n",
       "        [3, 4, 5],\n",
       "        [6, 7, 8]])"
      ]
     },
     "execution_count": 6,
     "metadata": {},
     "output_type": "execute_result"
    }
   ],
   "source": [
    "import torch\n",
    "\n",
    "\n",
    "torch.stack([torch.arange(3), torch.arange(3, 6), torch.arange(6, 9)])"
   ]
  },
  {
   "cell_type": "code",
   "execution_count": 19,
   "metadata": {},
   "outputs": [
    {
     "data": {
      "text/plain": [
       "((8, 9, 12, 13, 0, 1, 2, 3, 4, 5, 6, 7, 10, 11),\n",
       " tensor([[4, 5, 6, 0, 0, 1, 1, 2, 2, 3, 3, 4, 5, 6],\n",
       "         [5, 4, 0, 6, 1, 0, 2, 1, 3, 2, 4, 3, 6, 5]]))"
      ]
     },
     "execution_count": 19,
     "metadata": {},
     "output_type": "execute_result"
    }
   ],
   "source": [
    "perm = np.random.permutation(range(0, edge_index.shape[-1], 2))\n",
    "idxs = sum([(i, i + 1) for i in perm], ())# * 2 + 1\n",
    "perm, idxs\n",
    "idxs, edge_index[:, idxs]"
   ]
  },
  {
   "cell_type": "code",
   "execution_count": 21,
   "metadata": {},
   "outputs": [
    {
     "data": {
      "text/plain": [
       "(tensor([[0, 1, 1, 2, 2, 3, 3, 4, 4, 5, 5, 6, 6, 0],\n",
       "         [1, 0, 2, 1, 3, 2, 4, 3, 5, 4, 6, 5, 0, 6]]),\n",
       " tensor([[0, 1, 1],\n",
       "         [1, 0, 2]]))"
      ]
     },
     "execution_count": 21,
     "metadata": {},
     "output_type": "execute_result"
    }
   ],
   "source": [
    "a = edge_index[:, :3]\n",
    "edge_index, a"
   ]
  },
  {
   "cell_type": "code",
   "execution_count": 23,
   "metadata": {},
   "outputs": [
    {
     "data": {
      "text/plain": [
       "(tensor([[0, 1, 1, 2, 2, 3, 3, 4, 4, 5, 5, 6, 6, 0],\n",
       "         [1, 0, 2, 1, 3, 2, 4, 3, 5, 4, 6, 5, 0, 6]]),\n",
       " tensor([[0, 1, 1],\n",
       "         [1, 0, 2]]))"
      ]
     },
     "execution_count": 23,
     "metadata": {},
     "output_type": "execute_result"
    }
   ],
   "source": [
    "edge_index[0, 0] = 0\n",
    "edge_index, a"
   ]
  },
  {
   "cell_type": "code",
   "execution_count": null,
   "metadata": {},
   "outputs": [],
   "source": []
  },
  {
   "cell_type": "code",
   "execution_count": 8,
   "metadata": {},
   "outputs": [
    {
     "data": {
      "text/plain": [
       "tensor([[0, 1, 1, 2, 2, 3, 3, 4, 4, 5, 5, 6, 6, 0],\n",
       "        [1, 0, 2, 1, 3, 2, 4, 3, 5, 4, 6, 5, 0, 6]])"
      ]
     },
     "execution_count": 8,
     "metadata": {},
     "output_type": "execute_result"
    }
   ],
   "source": [
    "a = [0] + torch.repeat_interleave(torch.arange(1, 7), 2).tolist() + [0]\n",
    "\n",
    "edge_index = torch.tensor([\n",
    "    a,\n",
    "    ((torch.tensor([1, -1] * 7) + torch.tensor(a)) % 7).tolist()\n",
    "], dtype=torch.long)\n",
    "\n",
    "edge_index"
   ]
  }
 ],
 "metadata": {
  "kernelspec": {
   "display_name": "torch-env-conda-py38",
   "language": "python",
   "name": "python3"
  },
  "language_info": {
   "codemirror_mode": {
    "name": "ipython",
    "version": 3
   },
   "file_extension": ".py",
   "mimetype": "text/x-python",
   "name": "python",
   "nbconvert_exporter": "python",
   "pygments_lexer": "ipython3",
   "version": "3.8.17"
  },
  "orig_nbformat": 4
 },
 "nbformat": 4,
 "nbformat_minor": 2
}
