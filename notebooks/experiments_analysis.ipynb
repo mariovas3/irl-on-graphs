{
 "cells": [
  {
   "cell_type": "code",
   "execution_count": 1,
   "metadata": {},
   "outputs": [],
   "source": [
    "import sys\n",
    "from pathlib import Path\n",
    "p = Path('.').absolute().parent\n",
    "if str(p) not in sys.path:\n",
    "    sys.path.append(str(p))\n",
    "\n",
    "import numpy as np\n",
    "import pickle\n",
    "import matplotlib.pyplot as plt\n",
    "from graph_irl.plots_for_report import *\n",
    "from graph_irl.select_good_experiments import *\n",
    "np.random.seed(0)"
   ]
  },
  {
   "cell_type": "code",
   "execution_count": 2,
   "metadata": {},
   "outputs": [],
   "source": [
    "# get the paths;\n",
    "mine_per_dec = p / 'remote_test_output/quad_2x256_10iters_per_dec_mine'\n",
    "mine_vanilla = p / 'remote_test_output/quad_2x256_10iters_vanilla_mine'\n",
    "mine_per_dec_UT1 = p / 'remote_test_output/quad_2x256_10iters_per_dec_mine_UT1'\n",
    "\n",
    "go_per_dec = p / 'remote_test_output/quad_2x256_10iters_per_dec_GO'\n",
    "go_vanilla = p / 'remote_test_output/quad_2x256_10iters_vanilla_GO'\n",
    "go_per_dec_UT1 = p / 'remote_test_output/quad_2x256_10iters_per_dec_GO_UT1'"
   ]
  },
  {
   "cell_type": "markdown",
   "metadata": {},
   "source": [
    "### Compare traget graph stats;"
   ]
  },
  {
   "cell_type": "code",
   "execution_count": 3,
   "metadata": {},
   "outputs": [
    {
     "name": "stdout",
     "output_type": "stream",
     "text": [
      "irlpolicy_clustcoefs_KS_pval (14, 16) 0.875\n",
      "irlpolicy_clustcoefs_target_KS_pval (13, 16) 0.8125\n",
      "irlpolicy_degrees_KS_pval (0, 16) 0.0\n",
      "irlpolicy_degrees_target_KS_pval (5, 16) 0.3125\n",
      "irlpolicy_triangles_KS_pval (7, 16) 0.4375\n",
      "irlpolicy_triangles_target_KS_pval (4, 16) 0.25\n",
      "newpolicy_clustcoefs_KS_pval (14, 16) 0.875\n",
      "newpolicy_degrees_KS_pval (4, 16) 0.25\n",
      "newpolicy_triangles_KS_pval (7, 16) 0.4375\n",
      "\n",
      "\n",
      "irlpolicy_clustcoefs_KS_pval (13, 16) 0.8125\n",
      "irlpolicy_clustcoefs_target_KS_pval (14, 16) 0.875\n",
      "irlpolicy_degrees_KS_pval (0, 16) 0.0\n",
      "irlpolicy_degrees_target_KS_pval (7, 16) 0.4375\n",
      "irlpolicy_triangles_KS_pval (7, 16) 0.4375\n",
      "irlpolicy_triangles_target_KS_pval (5, 16) 0.3125\n",
      "newpolicy_clustcoefs_KS_pval (13, 16) 0.8125\n",
      "newpolicy_degrees_KS_pval (6, 16) 0.375\n",
      "newpolicy_triangles_KS_pval (6, 16) 0.375\n",
      "\n",
      "\n"
     ]
    }
   ],
   "source": [
    "display_pvals_and_metrics((mine_vanilla, go_vanilla), 0.05)"
   ]
  },
  {
   "cell_type": "code",
   "execution_count": 4,
   "metadata": {},
   "outputs": [
    {
     "name": "stdout",
     "output_type": "stream",
     "text": [
      "irlpolicy_clustcoefs_KS_pval (14, 16) 0.875\n",
      "irlpolicy_clustcoefs_target_KS_pval (13, 16) 0.8125\n",
      "irlpolicy_degrees_KS_pval (1, 16) 0.0625\n",
      "irlpolicy_degrees_target_KS_pval (5, 16) 0.3125\n",
      "irlpolicy_triangles_KS_pval (6, 16) 0.375\n",
      "irlpolicy_triangles_target_KS_pval (4, 16) 0.25\n",
      "newpolicy_clustcoefs_KS_pval (13, 16) 0.8125\n",
      "newpolicy_degrees_KS_pval (3, 16) 0.1875\n",
      "newpolicy_triangles_KS_pval (4, 16) 0.25\n",
      "\n",
      "\n",
      "irlpolicy_clustcoefs_KS_pval (12, 16) 0.75\n",
      "irlpolicy_clustcoefs_target_KS_pval (12, 16) 0.75\n",
      "irlpolicy_degrees_KS_pval (0, 16) 0.0\n",
      "irlpolicy_degrees_target_KS_pval (4, 16) 0.25\n",
      "irlpolicy_triangles_KS_pval (6, 16) 0.375\n",
      "irlpolicy_triangles_target_KS_pval (3, 16) 0.1875\n",
      "newpolicy_clustcoefs_KS_pval (15, 16) 0.9375\n",
      "newpolicy_degrees_KS_pval (8, 16) 0.5\n",
      "newpolicy_triangles_KS_pval (6, 16) 0.375\n",
      "\n",
      "\n"
     ]
    }
   ],
   "source": [
    "display_pvals_and_metrics((mine_per_dec, go_per_dec), 0.05)"
   ]
  },
  {
   "cell_type": "markdown",
   "metadata": {},
   "source": [
    "### Compare source graph stats;"
   ]
  },
  {
   "cell_type": "code",
   "execution_count": 5,
   "metadata": {},
   "outputs": [
    {
     "name": "stdout",
     "output_type": "stream",
     "text": [
      "irlpolicy_clustcoefs_vs_source_KS_pval (7, 16) 0.4375\n",
      "irlpolicy_degrees_vs_source_KS_pval (0, 16) 0.0\n",
      "irlpolicy_triangles_vs_source_KS_pval (0, 16) 0.0\n",
      "\n",
      "\n",
      "irlpolicy_clustcoefs_vs_source_KS_pval (4, 16) 0.25\n",
      "irlpolicy_degrees_vs_source_KS_pval (0, 16) 0.0\n",
      "irlpolicy_triangles_vs_source_KS_pval (1, 16) 0.0625\n",
      "\n",
      "\n"
     ]
    }
   ],
   "source": [
    "display_pvals_and_metrics((mine_vanilla, go_vanilla), 0.05, False)"
   ]
  },
  {
   "cell_type": "code",
   "execution_count": 6,
   "metadata": {},
   "outputs": [
    {
     "name": "stdout",
     "output_type": "stream",
     "text": [
      "irlpolicy_clustcoefs_vs_source_KS_pval (4, 16) 0.25\n",
      "irlpolicy_degrees_vs_source_KS_pval (0, 16) 0.0\n",
      "irlpolicy_triangles_vs_source_KS_pval (2, 16) 0.125\n",
      "\n",
      "\n",
      "irlpolicy_clustcoefs_vs_source_KS_pval (2, 16) 0.125\n",
      "irlpolicy_degrees_vs_source_KS_pval (0, 16) 0.0\n",
      "irlpolicy_triangles_vs_source_KS_pval (0, 16) 0.0\n",
      "\n",
      "\n"
     ]
    }
   ],
   "source": [
    "display_pvals_and_metrics((mine_per_dec, go_per_dec), 0.05, False)"
   ]
  }
 ],
 "metadata": {
  "kernelspec": {
   "display_name": "torch-env",
   "language": "python",
   "name": "python3"
  },
  "language_info": {
   "codemirror_mode": {
    "name": "ipython",
    "version": 3
   },
   "file_extension": ".py",
   "mimetype": "text/x-python",
   "name": "python",
   "nbconvert_exporter": "python",
   "pygments_lexer": "ipython3",
   "version": "3.8.10"
  },
  "orig_nbformat": 4
 },
 "nbformat": 4,
 "nbformat_minor": 2
}
