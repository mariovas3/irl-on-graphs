{
 "cells": [
  {
   "cell_type": "code",
   "execution_count": 1,
   "metadata": {},
   "outputs": [
    {
     "name": "stdout",
     "output_type": "stream",
     "text": [
      "pygame 2.1.3 (SDL 2.0.22, Python 3.8.10)\n",
      "Hello from the pygame community. https://www.pygame.org/contribute.html\n",
      "/home/focal/coding/urban-nets-style-transfer/tests\n",
      "expert return: -122.74497985839844\n",
      "expert return: -149.66355895996094\n",
      "expert return: -124.43367004394531\n",
      "expert return: -146.4972686767578\n",
      "expert return: -138.7230682373047\n",
      "expert return: -153.1378173828125\n",
      "expert return: -139.2919158935547\n",
      "expert return: -134.63589477539062\n",
      "expert return: -135.19525146484375\n",
      "expert return: -153.7252960205078\n",
      "expert_rewards shape:  torch.Size([10, 11])\n",
      "sampled undiscounted return: -137.8103790283203\n",
      "sampled undiscounted return: -143.25941467285156\n",
      "sampled undiscounted return: -142.55328369140625\n",
      "sampled undiscounted return: -150.7525177001953\n",
      "sampled undiscounted return: -119.78134155273438\n",
      "sampled undiscounted return: -147.7942657470703\n",
      "sampled undiscounted return: -134.21124267578125\n",
      "sampled undiscounted return: -147.94541931152344\n",
      "sampled undiscounted return: -154.61767578125\n",
      "sampled undiscounted return: -96.44125366210938\n",
      "sampled undiscounted return: -140.453125\n",
      "sampled undiscounted return: -130.03411865234375\n",
      "sampled undiscounted return: -127.56687927246094\n",
      "sampled undiscounted return: -153.83816528320312\n",
      "sampled undiscounted return: -174.6925048828125\n",
      "sampled rewards shape  torch.Size([15, 11])\n",
      "expert avg rewards: -139.80487060546875\n",
      "imp sampled rewards: -90.41244506835938\n",
      "mono loss: 17.56060028076172\n",
      "lcr_expert_loss: 0.0\n",
      "lcr_sampled_loss: 0.0\n",
      "overall reward loss: 66.9530258178711\n"
     ]
    }
   ],
   "source": [
    "import sys\n",
    "from pathlib import Path\n",
    "p = Path('.').absolute().parent\n",
    "if str(p) not in sys.path:\n",
    "    sys.path.append(str(p))\n",
    "\n",
    "from graph_irl.buffer_v2 import GraphBuffer\n",
    "from graph_irl.policy import GaussPolicy, TwoStageGaussPolicy, GCN, Qfunc\n",
    "from graph_irl.graph_rl_utils import GraphEnv\n",
    "from graph_irl.sac import SACAgentGraph, TEST_OUTPUTS_PATH\n",
    "from graph_irl.reward import GraphReward\n",
    "from graph_irl.examples.circle_graph import create_circle_graph\n",
    "from graph_irl.irl_trainer import IRLGraphTrainer\n",
    "\n",
    "import random\n",
    "import numpy as np\n",
    "import torch\n",
    "torch.set_printoptions(precision=8)\n",
    "random.seed(0)\n",
    "np.random.seed(0)\n",
    "torch.manual_seed(0)\n",
    "\n",
    "\n",
    "def get_params(compute_rewards_online):\n",
    "    # circular graph with 7 nodes;\n",
    "    n_nodes, node_dim = 11, 5\n",
    "    nodes, expert_edge_index = create_circle_graph(n_nodes, node_dim, torch.randn)\n",
    "    # nodes = torch.ones_like(nodes)  # doesn't seem to work for ones;\n",
    "    # print(nodes, expert_edge_index)\n",
    "    encoder_hiddens = [8, 8, 8]\n",
    "    reward_fn_hiddens = [16, 16]\n",
    "    gauss_policy_hiddens = [16, 16]\n",
    "    tsg_policy_hiddens1 = [16, 16]\n",
    "    tsg_policy_hiddens2 = [16]\n",
    "    qfunc_hiddens = [16, 16]\n",
    "\n",
    "    # print(f\"IRL training for {n_nodes}-node graph\")\n",
    "\n",
    "    encoder_dict = dict(\n",
    "        encoder = GCN(node_dim, encoder_hiddens, with_layer_norm=True, final_tanh=True),\n",
    "        encoderq1 = GCN(node_dim, encoder_hiddens, with_layer_norm=True, final_tanh=True),\n",
    "        encoderq2 = GCN(node_dim, encoder_hiddens, with_layer_norm=True, final_tanh=True),\n",
    "        encoderq1t = GCN(node_dim, encoder_hiddens, with_layer_norm=True, final_tanh=True),\n",
    "        encoderq2t = GCN(node_dim, encoder_hiddens, with_layer_norm=True, final_tanh=True),\n",
    "        encoder_reward = GCN(node_dim, encoder_hiddens, with_layer_norm=True, final_tanh=True),\n",
    "    )\n",
    "\n",
    "    reward_fn = GraphReward(\n",
    "        encoder_dict['encoder_reward'], \n",
    "        encoder_hiddens[-1], \n",
    "        hiddens=reward_fn_hiddens, \n",
    "        with_layer_norm=True,\n",
    "        with_batch_norm=False,\n",
    "    )\n",
    "\n",
    "    gauss_policy_kwargs = dict(\n",
    "        obs_dim=encoder_hiddens[-1],\n",
    "        action_dim=encoder_hiddens[-1],\n",
    "        hiddens=gauss_policy_hiddens,\n",
    "        with_layer_norm=True,\n",
    "        encoder=encoder_dict['encoder'],\n",
    "        two_action_vectors=True,\n",
    "    )\n",
    "\n",
    "    tsg_policy_kwargs = dict(\n",
    "        obs_dim=encoder_hiddens[-1],\n",
    "        action_dim=encoder_hiddens[-1],\n",
    "        hiddens1=tsg_policy_hiddens1,\n",
    "        hiddens2=tsg_policy_hiddens2,\n",
    "        encoder=encoder_dict['encoder'],\n",
    "        with_layer_norm=True,\n",
    "    )\n",
    "\n",
    "    qfunc_kwargs = dict(\n",
    "        obs_action_dim=encoder_hiddens[-1] * 3, \n",
    "        hiddens=qfunc_hiddens, \n",
    "        with_layer_norm=True, \n",
    "        with_batch_norm=False,\n",
    "        encoder=None\n",
    "    )\n",
    "\n",
    "    Q1_kwargs = qfunc_kwargs.copy()\n",
    "    Q1_kwargs['encoder'] = encoder_dict['encoderq1']\n",
    "    Q2_kwargs = qfunc_kwargs.copy()\n",
    "    Q2_kwargs['encoder'] = encoder_dict['encoderq2']\n",
    "    Q1t_kwargs = qfunc_kwargs.copy()\n",
    "    Q1t_kwargs['encoder'] = encoder_dict['encoderq1t']\n",
    "    Q2t_kwargs = qfunc_kwargs.copy()\n",
    "    Q2t_kwargs['encoder'] = encoder_dict['encoderq2t']\n",
    "\n",
    "    agent_kwargs=dict(\n",
    "        name='SACAgentGraph',\n",
    "        policy_constructor=GaussPolicy,\n",
    "        qfunc_constructor=Qfunc,\n",
    "        env_constructor=GraphEnv,\n",
    "        buffer_constructor=GraphBuffer,\n",
    "        optimiser_constructors=dict(\n",
    "            policy_optim=torch.optim.Adam,\n",
    "            temperature_optim=torch.optim.Adam,\n",
    "            Q1_optim=torch.optim.Adam,\n",
    "            Q2_optim=torch.optim.Adam,\n",
    "        ),\n",
    "        entropy_lb=encoder_hiddens[-1],\n",
    "        policy_lr=3e-4,\n",
    "        temperature_lr=3e-4,\n",
    "        qfunc_lr=3e-4,\n",
    "        tau=0.01,\n",
    "        discount=1.,\n",
    "        save_to=TEST_OUTPUTS_PATH,\n",
    "        cache_best_policy=False,\n",
    "        clip_grads=False,\n",
    "        zero_temperature=False,\n",
    "        UT_trick=False,\n",
    "        with_entropy=False,\n",
    "    )\n",
    "\n",
    "    config = dict(\n",
    "        training_kwargs=dict(\n",
    "            seed=0,\n",
    "            num_iters=31,\n",
    "            num_steps_to_sample=100,\n",
    "            num_grad_steps=1,\n",
    "            batch_size=11,\n",
    "            num_eval_steps_to_sample=n_nodes,\n",
    "            min_steps_to_presample=0,\n",
    "        ),\n",
    "        Q1_kwargs=Q1_kwargs,\n",
    "        Q2_kwargs=Q2_kwargs,\n",
    "        Q1t_kwargs=Q1t_kwargs,\n",
    "        Q2t_kwargs=Q2t_kwargs,\n",
    "        policy_kwargs=gauss_policy_kwargs,\n",
    "        buffer_kwargs=dict(\n",
    "            max_size=10_000,\n",
    "            nodes=nodes,\n",
    "            seed=0,\n",
    "            drop_repeats_or_self_loops=True,\n",
    "            get_batch_reward=True,\n",
    "            compute_rewards_online=compute_rewards_online,\n",
    "            graphs_per_batch=100,\n",
    "            action_is_index=True,\n",
    "            per_decision_imp_sample=True,\n",
    "            reward_scale=encoder_hiddens[-1] * 2,\n",
    "            log_offset=0.,\n",
    "        ),\n",
    "        env_kwargs=dict(\n",
    "            x=nodes,\n",
    "            reward_fn=reward_fn,\n",
    "            max_episode_steps=n_nodes,\n",
    "            num_expert_steps=n_nodes,\n",
    "            max_repeats=n_nodes,\n",
    "            max_self_loops=n_nodes,\n",
    "            drop_repeats_or_self_loops=True,\n",
    "            id=None,\n",
    "            reward_fn_termination=False,\n",
    "            calculate_reward=False,\n",
    "            min_steps_to_do=3,\n",
    "        )\n",
    "    )\n",
    "    return agent_kwargs, config, nodes, expert_edge_index\n",
    "\n",
    "\n",
    "agent_kwargs, config, nodes, expert_edge_index = get_params(\n",
    "    compute_rewards_online=True\n",
    ")\n",
    "\n",
    "agent = SACAgentGraph(\n",
    "    **agent_kwargs,\n",
    "    **config\n",
    ")\n",
    "\n",
    "irl_trainer_config = dict(\n",
    "    num_expert_traj=10,\n",
    "    graphs_per_batch=config['buffer_kwargs']['graphs_per_batch'],\n",
    "    num_extra_paths_gen=5,\n",
    "    reward_optim_lr_scheduler=None,\n",
    "    reward_grad_clip=False,\n",
    "    reward_scale=config['buffer_kwargs']['reward_scale'],\n",
    "    per_decision_imp_sample=config['buffer_kwargs']['per_decision_imp_sample'],\n",
    "    unnorm_policy=True,\n",
    "    add_expert_to_generated=False,\n",
    "    lcr_regularisation_coef=None,\n",
    "    mono_regularisation_on_demo_coef=1 / (expert_edge_index.shape[-1] // 2),\n",
    "    verbose=False,\n",
    ")\n",
    "\n",
    "irl_trainer = IRLGraphTrainer(\n",
    "    reward_fn=agent.env.reward_fn,\n",
    "    reward_optim=torch.optim.Adam(agent.env.reward_fn.parameters(), lr=1e-2),\n",
    "    agent=agent,\n",
    "    nodes=nodes,\n",
    "    expert_edge_index=expert_edge_index,\n",
    "    **irl_trainer_config,\n",
    ")\n",
    "\n",
    "irl_trainer.reward_fn.requires_grad_(True)\n",
    "irl_trainer.reward_fn.train()\n",
    "irl_trainer.agent.policy.requires_grad_(False)\n",
    "irl_trainer.do_reward_grad_step()"
   ]
  },
  {
   "cell_type": "code",
   "execution_count": 2,
   "metadata": {},
   "outputs": [
    {
     "name": "stderr",
     "output_type": "stream",
     "text": [
      "  0%|          | 0/1 [00:00<?, ?it/s]"
     ]
    },
    {
     "name": "stdout",
     "output_type": "stream",
     "text": [
      "bob is: 110\n",
      "tensor([[10, 10,  4,  0,  9,  2,  1,  3,  6,  8,  4],\n",
      "        [ 1,  7,  9,  8,  8,  0,  4,  0,  7,  9,  3]])\n",
      "tensor([ -5.01699448, -10.65846252, -10.90252399,  -9.80887985,  -9.80794048,\n",
      "        -20.05060196,  -6.02020884, -12.78817081,  -9.87467861, -18.93912888,\n",
      "         -8.24656963])\n",
      "\n"
     ]
    },
    {
     "name": "stderr",
     "output_type": "stream",
     "text": []
    },
    {
     "name": "stdout",
     "output_type": "stream",
     "text": [
      "bob is: 110\n",
      "tensor([[0, 3, 7, 2, 4, 2, 0, 1, 2, 2, 9],\n",
      "        [6, 0, 0, 8, 5, 0, 3, 2, 1, 8, 0]])\n",
      "tensor([-13.58244228,  -8.29182720, -16.62692833, -20.31767845, -14.35860252,\n",
      "        -21.08855629, -11.96698666,  -8.06600475,  -7.78110695, -20.34567451,\n",
      "        -12.27365112])\n",
      "\n"
     ]
    },
    {
     "name": "stderr",
     "output_type": "stream",
     "text": []
    },
    {
     "name": "stdout",
     "output_type": "stream",
     "text": [
      "bob is: 110\n",
      "tensor([[ 1,  5,  2, 10,  0,  3,  0,  9,  9,  1,  5],\n",
      "        [10, 10, 10,  6,  7, 10, 10,  1,  4,  7,  2]])\n",
      "tensor([-13.74940014, -17.23501205, -19.97656631, -10.68769932, -13.47595119,\n",
      "        -10.56976509,  -7.67417145,  -7.25369453,  -9.85009289, -21.47320938,\n",
      "         -6.64267731])\n",
      "\n"
     ]
    },
    {
     "name": "stderr",
     "output_type": "stream",
     "text": []
    },
    {
     "name": "stdout",
     "output_type": "stream",
     "text": [
      "bob is: 110\n",
      "tensor([[ 5,  1,  6,  1,  1,  9,  5,  8,  9,  1,  2],\n",
      "        [ 3,  4,  7,  0,  0,  7,  7, 10,  5,  7, 10]])\n",
      "tensor([-10.35365200,  -6.02020884, -13.11557293, -14.72109318, -13.87147427,\n",
      "        -10.26946354, -10.41771317, -14.30883026,  -8.26774216, -15.71107006,\n",
      "        -19.73834038])\n",
      "\n"
     ]
    },
    {
     "name": "stderr",
     "output_type": "stream",
     "text": []
    },
    {
     "name": "stdout",
     "output_type": "stream",
     "text": [
      "bob is: 110\n",
      "tensor([[ 8,  4,  3,  5,  3,  9,  6,  5, 10,  3,  2],\n",
      "        [ 4, 10, 10,  9, 10,  1,  8,  1,  1,  1,  9]])\n",
      "tensor([ -5.99037743, -14.67303085,  -7.35635662, -16.82743454, -17.20202065,\n",
      "         -7.44753456, -11.57715893, -16.43317413,  -9.01863194,  -8.73711586,\n",
      "        -12.50947857])\n",
      "\n"
     ]
    },
    {
     "name": "stderr",
     "output_type": "stream",
     "text": []
    },
    {
     "name": "stdout",
     "output_type": "stream",
     "text": [
      "bob is: 110\n",
      "tensor([[ 6,  1,  5,  9,  3,  2,  1,  8,  9,  1,  1],\n",
      "        [ 0,  6,  9,  7, 10,  4,  7,  1,  1,  9,  9]])\n",
      "tensor([ -8.89008522, -12.44372654, -16.79738045, -12.42251396, -10.87466049,\n",
      "        -10.56945992, -15.71107006,  -7.33597851, -10.31991673, -12.73385334,\n",
      "        -13.14181042])\n",
      "\n"
     ]
    },
    {
     "name": "stderr",
     "output_type": "stream",
     "text": []
    },
    {
     "name": "stdout",
     "output_type": "stream",
     "text": [
      "bob is: 110\n",
      "tensor([[ 8,  7,  2,  0,  2,  0,  2,  2,  0, 10,  9],\n",
      "        [10,  2,  8,  7,  0, 10,  8, 10, 10,  9,  2]])\n",
      "tensor([-19.96620941,  -7.94796753, -21.98263168, -12.50961304, -20.71328163,\n",
      "         -7.96949005, -20.34567451,  -9.90551662, -13.34237289, -12.03491592,\n",
      "        -12.06001282])\n",
      "\n"
     ]
    },
    {
     "name": "stderr",
     "output_type": "stream",
     "text": []
    },
    {
     "name": "stdout",
     "output_type": "stream",
     "text": [
      "bob is: 110\n",
      "tensor([[ 7,  4,  8,  1,  7,  9,  8,  1,  1,  4,  0],\n",
      "        [ 8,  6,  9,  5,  8, 10,  9,  9,  6, 10, 10]])\n",
      "tensor([-16.91120911, -14.73565578,  -8.85842609,  -7.05359793, -16.71891212,\n",
      "         -7.16250134, -18.93912888, -16.38153648, -14.70255756,  -7.32860851,\n",
      "         -7.96949005])\n",
      "\n"
     ]
    },
    {
     "name": "stderr",
     "output_type": "stream",
     "text": []
    },
    {
     "name": "stdout",
     "output_type": "stream",
     "text": [
      "bob is: 110\n",
      "tensor([[ 3,  2,  8,  3,  2,  3,  0, 10,  8,  6,  7],\n",
      "        [ 6,  4,  9,  8,  4,  2,  8,  9,  5,  1,  0]])\n",
      "tensor([-15.67747688,  -9.45127773, -21.18833351, -15.34461594, -17.40869141,\n",
      "        -15.65111732, -14.94575214, -14.98478508, -13.68291378,  -9.49394035,\n",
      "        -19.43034744])\n",
      "\n"
     ]
    },
    {
     "name": "stderr",
     "output_type": "stream",
     "text": []
    },
    {
     "name": "stdout",
     "output_type": "stream",
     "text": [
      "bob is: 110\n",
      "tensor([[ 6,  3, 10,  1,  5,  7,  8,  0,  0,  9,  2],\n",
      "        [ 2, 10,  1,  0,  2,  3,  1,  8,  1,  1,  1]])\n",
      "tensor([ -9.70431137, -10.55486774,  -5.87328625, -14.55493450, -10.91096306,\n",
      "        -22.29721832,  -7.41619778, -14.94575214,  -7.49139071,  -9.06084824,\n",
      "        -20.08072281])\n",
      "\n"
     ]
    },
    {
     "name": "stderr",
     "output_type": "stream",
     "text": []
    },
    {
     "name": "stdout",
     "output_type": "stream",
     "text": [
      "bob is: 110\n",
      "tensor([[ 8,  0,  3,  6, 10,  7,  8,  4,  0,  5,  5],\n",
      "        [ 4,  7,  6,  7,  4,  6,  6,  6,  3,  9,  8]])\n",
      "tensor([ -9.19682980, -13.12626457, -14.70588875, -10.70311737, -10.44157124,\n",
      "         -6.88864899, -10.10399055, -14.73565578,  -5.98628473, -16.82743454,\n",
      "        -19.93266678])\n",
      "\n"
     ]
    },
    {
     "name": "stderr",
     "output_type": "stream",
     "text": []
    },
    {
     "name": "stdout",
     "output_type": "stream",
     "text": [
      "bob is: 110\n",
      "tensor([[ 5, 10,  0,  7,  1, 10,  6,  2,  5,  8,  2],\n",
      "        [ 6,  9,  7, 10,  7,  6,  4,  0,  8,  5,  4]])\n",
      "tensor([-20.38142776, -12.75823593, -13.47595119, -16.01479721, -21.47320938,\n",
      "        -16.95775986, -10.01554394, -19.93632507, -19.93266678,  -8.49283409,\n",
      "        -11.85583591])\n",
      "\n"
     ]
    },
    {
     "name": "stderr",
     "output_type": "stream",
     "text": []
    },
    {
     "name": "stdout",
     "output_type": "stream",
     "text": [
      "bob is: 110\n",
      "tensor([[ 4,  5,  0,  1,  8,  9,  7,  8,  2,  7,  6],\n",
      "        [10,  9,  9,  5,  1,  4,  1,  6,  4,  1,  7]])\n",
      "tensor([-12.39560604, -21.04291344, -15.27743149,  -6.00073242,  -7.06168842,\n",
      "         -9.85009289,  -9.22720242, -11.90094757,  -9.45127773, -13.41860104,\n",
      "         -9.42696857])\n",
      "\n"
     ]
    },
    {
     "name": "stderr",
     "output_type": "stream",
     "text": []
    },
    {
     "name": "stdout",
     "output_type": "stream",
     "text": [
      "bob is: 110\n",
      "tensor([[10, 10,  8,  3,  5,  9,  1,  2,  8,  8,  3],\n",
      "        [ 0,  6,  6,  7,  8,  7,  4,  5,  7, 10,  8]])\n",
      "tensor([-11.78224087,  -5.66121864, -10.10399055, -10.62113762, -20.86382866,\n",
      "         -9.99642086, -10.90974426,  -4.60030460, -10.21136379,  -7.88013601,\n",
      "         -9.15755367])\n",
      "\n"
     ]
    },
    {
     "name": "stderr",
     "output_type": "stream",
     "text": []
    },
    {
     "name": "stdout",
     "output_type": "stream",
     "text": [
      "bob is: 110\n",
      "tensor([[ 1,  2, 10,  5,  6,  1,  3,  1,  8,  3,  4],\n",
      "        [ 9, 10,  2,  9,  0, 10,  0, 10, 10,  8, 10]])\n",
      "tensor([-14.45618057, -19.91670418,  -9.24831200, -17.22081947, -11.60579395,\n",
      "         -7.39944458, -11.27902794, -13.16800308, -12.04510498, -15.34461594,\n",
      "        -10.77372837])\n",
      "\n"
     ]
    },
    {
     "name": "stderr",
     "output_type": "stream",
     "text": []
    },
    {
     "name": "stdout",
     "output_type": "stream",
     "text": [
      "bob is: 109\n",
      "tensor([[ 1, 10,  6,  0,  5,  1,  7, 10,  4,  9,  1],\n",
      "        [ 6,  9,  0,  4,  1, 10,  6,  0,  9, 10, 10]])\n",
      "tensor([-14.14079189, -14.74208832, -14.15732384, -10.81862926, -11.30941010,\n",
      "         -7.67038536, -13.63494301, -13.03579521, -14.97972679,  -9.98200703,\n",
      "         -4.72071075])\n",
      "\n"
     ]
    },
    {
     "name": "stderr",
     "output_type": "stream",
     "text": []
    },
    {
     "name": "stdout",
     "output_type": "stream",
     "text": [
      "bob is: 110\n",
      "tensor([[ 2,  9,  9, 10,  9,  6,  4,  1,  2, 10, 10],\n",
      "        [ 1,  1,  1,  1, 10,  0,  2,  9,  9,  0,  4]])\n",
      "tensor([ -7.78110695,  -4.96468639,  -7.95093727,  -8.16125298, -13.99039841,\n",
      "         -7.48609257,  -9.29767418, -16.03378868, -17.59910393, -13.51410484,\n",
      "         -6.18498182])\n",
      "\n"
     ]
    },
    {
     "name": "stderr",
     "output_type": "stream",
     "text": []
    },
    {
     "name": "stdout",
     "output_type": "stream",
     "text": [
      "bob is: 110\n",
      "tensor([[ 8,  2,  5,  7,  0,  5,  5,  3,  5,  9,  4],\n",
      "        [ 7,  9, 10,  6,  9, 10,  8,  8,  0, 10, 10]])\n",
      "tensor([-13.99958038, -19.02750969,  -9.54340935, -16.56809235, -10.94678879,\n",
      "        -12.19553280, -20.79857635,  -5.64748240, -15.86811256, -10.99304104,\n",
      "        -14.67303085])\n",
      "\n"
     ]
    },
    {
     "name": "stderr",
     "output_type": "stream",
     "text": []
    },
    {
     "name": "stdout",
     "output_type": "stream",
     "text": [
      "bob is: 110\n",
      "tensor([[1, 5, 3, 3, 7, 2, 5, 5, 0, 1, 6],\n",
      "        [5, 8, 8, 7, 8, 1, 6, 9, 5, 9, 8]])\n",
      "tensor([-11.11308575, -20.54598427, -19.07320023,  -7.96651077, -16.71891212,\n",
      "         -5.47315359, -20.86198997, -18.73563766, -11.57705688, -16.03378868,\n",
      "         -6.69357538])\n",
      "\n"
     ]
    },
    {
     "name": "stderr",
     "output_type": "stream",
     "text": []
    },
    {
     "name": "stdout",
     "output_type": "stream",
     "text": [
      "bob is: 110\n",
      "tensor([[ 3,  3,  4,  3,  3,  0,  6,  7,  2,  9,  2],\n",
      "        [ 6,  9,  9,  9,  9,  1, 10,  3,  8,  1, 10]])\n",
      "tensor([-14.02655125, -14.13656521, -15.70571327, -17.11959076, -16.05929947,\n",
      "         -4.94739294, -10.14953327,  -9.33137894, -20.28973961,  -9.02924252,\n",
      "        -19.18160248])\n",
      "\n"
     ]
    },
    {
     "name": "stderr",
     "output_type": "stream",
     "text": []
    },
    {
     "name": "stdout",
     "output_type": "stream",
     "text": [
      "bob is: 110\n",
      "tensor([[ 0,  9,  8,  0,  2,  2,  9,  7,  3,  6,  4],\n",
      "        [ 1,  8,  4,  8,  0, 10,  4, 10,  9,  7,  7]])\n",
      "tensor([-10.09340477, -14.19982624, -11.94560909,  -7.41849327, -21.11357689,\n",
      "        -14.37753963,  -9.92524147,  -7.36595249, -10.58334923, -10.09396839,\n",
      "         -8.14468956])\n",
      "\n"
     ]
    },
    {
     "name": "stderr",
     "output_type": "stream",
     "text": []
    },
    {
     "name": "stdout",
     "output_type": "stream",
     "text": [
      "bob is: 110\n",
      "tensor([[ 8,  2,  0,  0,  0,  4,  7,  2,  2,  2,  7],\n",
      "        [10, 10,  9,  1,  8,  9,  8,  1,  7,  9,  3]])\n",
      "tensor([ -8.02362251,  -7.66612530, -14.69013882,  -8.92664623,  -8.07176781,\n",
      "        -11.07705212, -18.00357819,  -9.66172981,  -8.99657631, -19.37692642,\n",
      "         -7.47600222])\n",
      "\n"
     ]
    },
    {
     "name": "stderr",
     "output_type": "stream",
     "text": []
    },
    {
     "name": "stdout",
     "output_type": "stream",
     "text": [
      "bob is: 110\n",
      "tensor([[ 2,  9,  7,  8, 10,  3,  3,  4,  5,  3,  4],\n",
      "        [ 9,  4, 10,  0,  4,  0,  5,  9,  4,  1, 10]])\n",
      "tensor([-19.96331215,  -8.11276054, -11.44062424, -12.41375446,  -6.18498230,\n",
      "        -15.74818897, -15.57771587,  -9.02276039, -10.60958481,  -7.82642365,\n",
      "         -7.32860851])\n",
      "\n"
     ]
    },
    {
     "name": "stderr",
     "output_type": "stream",
     "text": []
    },
    {
     "name": "stdout",
     "output_type": "stream",
     "text": [
      "bob is: 110\n",
      "tensor([[ 4,  0,  7,  8,  1,  4,  6,  3, 10,  1,  4],\n",
      "        [10,  5,  1,  1,  7, 10,  2, 10,  8,  9,  9]])\n",
      "tensor([ -9.72420216, -12.52479267,  -6.43289948, -10.99028015, -17.78861809,\n",
      "        -15.34132481,  -9.60834980, -10.72504139, -13.76848507,  -6.09430599,\n",
      "        -13.33307266])\n",
      "\n"
     ]
    },
    {
     "name": "stderr",
     "output_type": "stream",
     "text": []
    },
    {
     "name": "stdout",
     "output_type": "stream",
     "text": [
      "bob is: 110\n",
      "tensor([[ 3,  0,  2,  3,  3,  4,  5,  0,  1,  2,  7],\n",
      "        [ 0,  9,  7,  7,  6,  9, 10,  7,  0, 10,  8]])\n",
      "tensor([-12.20814991, -15.41094685, -17.10140228,  -7.96609688,  -7.14280176,\n",
      "        -13.16420937, -15.11346245, -12.74480247, -14.38974762, -19.87360573,\n",
      "        -16.85740471])\n",
      "\n"
     ]
    },
    {
     "name": "stderr",
     "output_type": "stream",
     "text": []
    },
    {
     "name": "stdout",
     "output_type": "stream",
     "text": [
      "bob is: 110\n",
      "tensor([[ 0,  7,  7,  5, 10,  7,  9, 10,  2,  9,  8],\n",
      "        [ 2,  3,  8,  2,  1,  6,  5,  7, 10,  1,  9]])\n",
      "tensor([-16.29795456,  -4.42839670, -16.01977348,  -7.47103977,  -6.53693247,\n",
      "         -7.03399563,  -8.26774216, -12.41486359, -19.25117683, -11.44691086,\n",
      "        -10.40319157])\n",
      "\n"
     ]
    },
    {
     "name": "stderr",
     "output_type": "stream",
     "text": []
    },
    {
     "name": "stdout",
     "output_type": "stream",
     "text": [
      "bob is: 110\n",
      "tensor([[ 9,  5,  2,  9,  8,  4,  2,  7,  1,  7, 10],\n",
      "        [ 0,  9, 10, 10,  1,  3, 10,  3,  0,  8,  8]])\n",
      "tensor([-12.02992916, -18.65868950, -19.55510330, -10.49174118,  -5.30645084,\n",
      "         -6.78024530,  -7.66612530,  -9.97227001, -14.22922039, -15.83741760,\n",
      "        -13.76848507])\n",
      "\n"
     ]
    },
    {
     "name": "stderr",
     "output_type": "stream",
     "text": []
    },
    {
     "name": "stdout",
     "output_type": "stream",
     "text": [
      "bob is: 110\n",
      "tensor([[ 1,  0,  5,  4,  9,  0,  1,  3,  8,  1,  3],\n",
      "        [10,  4,  9,  9, 10, 10,  6, 10,  1,  9,  4]])\n",
      "tensor([ -7.89188004, -10.40701675, -19.24053574, -11.18931770,  -5.96048832,\n",
      "         -8.52951908, -14.19349098, -12.71349812,  -8.84794044, -19.65242386,\n",
      "        -12.97301865])\n",
      "\n"
     ]
    },
    {
     "name": "stderr",
     "output_type": "stream",
     "text": []
    },
    {
     "name": "stdout",
     "output_type": "stream",
     "text": [
      "bob is: 110\n",
      "tensor([[ 7,  7,  2,  8,  8,  0,  2,  2,  3,  3,  1],\n",
      "        [ 9,  8,  7,  4,  7, 10,  8,  0,  4, 10,  9]])\n",
      "tensor([-15.11336517, -16.19939423, -16.53502846, -10.45444489, -10.15429306,\n",
      "         -8.54043674, -20.53178024, -18.16492653,  -9.01167202,  -7.35635662,\n",
      "        -14.69590473])\n",
      "\n"
     ]
    },
    {
     "name": "stderr",
     "output_type": "stream",
     "text": []
    },
    {
     "name": "stdout",
     "output_type": "stream",
     "text": [
      "bob is: 110\n",
      "tensor([[ 1,  2, 10,  0,  3,  2,  2,  6,  3,  9,  7],\n",
      "        [ 8,  6,  4,  5,  6, 10,  0,  0,  8,  1,  2]])\n",
      "tensor([-15.14312744, -19.86323547,  -9.75464344, -11.57705688, -14.14843082,\n",
      "        -19.07562637, -20.66304398, -12.06444740, -14.62690163,  -9.18458271,\n",
      "        -10.55954170])\n",
      "\n"
     ]
    },
    {
     "name": "stderr",
     "output_type": "stream",
     "text": [
      "100%|██████████| 31/31 [00:13<00:00,  2.31it/s]\n",
      "100%|██████████| 1/1 [00:13<00:00, 13.44s/it]"
     ]
    },
    {
     "name": "stdout",
     "output_type": "stream",
     "text": [
      "bob is: 110\n",
      "tensor([[ 5,  9, 10,  6,  7,  6,  1,  7,  2,  6, 10],\n",
      "        [ 7, 10,  8,  7,  9,  0,  7, 10,  7,  8,  8]])\n",
      "tensor([-20.30950546,  -8.11925697, -13.98352432, -10.59698582, -14.32473755,\n",
      "        -11.60579395, -15.71107006, -10.25322914, -16.59001732, -11.71584034,\n",
      "        -15.57777596])\n",
      "\n",
      "3409\n"
     ]
    },
    {
     "name": "stderr",
     "output_type": "stream",
     "text": [
      "\n",
      "/home/focal/coding/urban-nets-style-transfer/graph_irl/vis_utils.py:90: UserWarning: Attempting to set identical low and high ylims makes transformation singular; automatically expanding.\n",
      "  ax.set_ylim(ylow, yhigh)\n"
     ]
    },
    {
     "name": "stdout",
     "output_type": "stream",
     "text": [
      "3409 [[10  8]\n",
      " [ 0  8]\n",
      " [10  6]\n",
      " [ 2  6]\n",
      " [ 5  0]] [[ 0  9]\n",
      " [ 0  6]\n",
      " [ 4 10]\n",
      " [ 5  0]\n",
      " [ 8  7]] [Data(x=[11, 5], edge_index=[2, 0]), Data(x=[11, 5], edge_index=[2, 2]), Data(x=[11, 5], edge_index=[2, 4]), Data(x=[11, 5], edge_index=[2, 6]), Data(x=[11, 5], edge_index=[2, 8])] [Data(x=[11, 5], edge_index=[2, 12]), Data(x=[11, 5], edge_index=[2, 14]), Data(x=[11, 5], edge_index=[2, 16]), Data(x=[11, 5], edge_index=[2, 18]), Data(x=[11, 5], edge_index=[2, 20])]\n"
     ]
    }
   ],
   "source": [
    "irl_trainer.reward_fn.requires_grad_(False)\n",
    "irl_trainer.reward_fn.eval()\n",
    "irl_trainer.agent.policy.requires_grad_(True)\n",
    "irl_trainer.agent.policy.eval()\n",
    "irl_trainer.train_policy_k_epochs(1)"
   ]
  },
  {
   "cell_type": "code",
   "execution_count": 3,
   "metadata": {},
   "outputs": [
    {
     "name": "stdout",
     "output_type": "stream",
     "text": [
      "expert return: -114.7294921875\n",
      "expert return: -116.73078155517578\n",
      "expert return: -108.88362121582031\n",
      "expert return: -126.7417221069336\n",
      "expert return: -112.21012878417969\n",
      "expert return: -117.59815979003906\n",
      "expert return: -123.91873931884766\n",
      "expert return: -108.78541564941406\n",
      "expert return: -120.0748519897461\n",
      "expert return: -130.11383056640625\n",
      "expert_rewards shape:  torch.Size([10, 11])\n",
      "sampled undiscounted return: -139.0196075439453\n",
      "sampled undiscounted return: -149.67205810546875\n",
      "sampled undiscounted return: -145.4356231689453\n",
      "sampled undiscounted return: -141.41696166992188\n",
      "sampled undiscounted return: -122.41036224365234\n",
      "sampled undiscounted return: -135.726318359375\n",
      "sampled undiscounted return: -137.29229736328125\n",
      "sampled undiscounted return: -146.5854034423828\n",
      "sampled undiscounted return: -133.09445190429688\n",
      "sampled undiscounted return: -125.06513214111328\n",
      "sampled undiscounted return: -147.83804321289062\n",
      "sampled undiscounted return: -127.80394744873047\n",
      "sampled undiscounted return: -155.56007385253906\n",
      "sampled undiscounted return: -142.42208862304688\n",
      "sampled undiscounted return: -139.7233428955078\n",
      "sampled rewards shape  torch.Size([15, 11])\n",
      "expert avg rewards: -117.97866821289062\n",
      "imp sampled rewards: -105.54911041259766\n",
      "mono loss: 11.517538070678711\n",
      "lcr_expert_loss: 0.0\n",
      "lcr_sampled_loss: 0.0\n",
      "overall reward loss: 23.94709587097168\n"
     ]
    }
   ],
   "source": [
    "irl_trainer.reward_fn.requires_grad_(True)\n",
    "irl_trainer.reward_fn.train()\n",
    "irl_trainer.agent.policy.requires_grad_(False)\n",
    "irl_trainer.do_reward_grad_step()"
   ]
  },
  {
   "cell_type": "code",
   "execution_count": 4,
   "metadata": {},
   "outputs": [
    {
     "data": {
      "text/plain": [
       "tensor([-1.13003738e-02,  1.24404430e-02, -1.24041177e-02, -1.72416717e-02,\n",
       "        -1.87604986e-02,  1.32125989e-02,  1.66871380e-02,  1.68949608e-02,\n",
       "         5.25503457e-01,  5.49489796e-01,  3.66495341e-01,  2.65446931e-01,\n",
       "        -1.83788076e-01,  3.75868529e-01,  3.17790210e-01,  2.16946438e-01,\n",
       "        -1.22462017e-02,  1.07374601e-01, -1.60819143e-02, -4.78162974e-01,\n",
       "         1.71968445e-01, -5.08480251e-01,  3.20569426e-01, -4.21342403e-01,\n",
       "        -2.06193551e-01, -3.05994183e-01,  5.46577871e-01, -4.95204031e-01,\n",
       "         3.64286751e-01,  3.60076994e-01,  4.97049958e-01,  1.51331976e-01,\n",
       "         3.51813316e-01,  5.52480936e-01,  1.22800104e-01,  2.19568774e-01,\n",
       "        -5.11437356e-01, -1.65760592e-01,  5.66379614e-02,  6.58650845e-02,\n",
       "        -2.56528825e-01, -6.80525661e-01, -1.64700508e-01,  2.76522189e-01,\n",
       "         5.68592191e-01, -6.29678607e-01,  3.43454599e-01, -6.29876316e-01,\n",
       "         1.71520747e-02,  1.89763866e-02, -1.84109267e-02,  1.78483278e-02,\n",
       "         1.67081486e-02,  8.58223159e-03, -1.85542591e-02, -3.65942810e-03,\n",
       "        -2.19481781e-01, -2.50441313e-01, -1.24095291e-01,  2.51176238e-01,\n",
       "         3.03918868e-01,  2.58915335e-01,  1.56377733e-01, -2.64499933e-01,\n",
       "         5.53409941e-03,  8.07123855e-02, -3.32044393e-01, -4.61454540e-02,\n",
       "        -7.37178773e-02, -5.87045312e-01,  4.01959509e-01, -4.36492451e-02,\n",
       "        -5.11747777e-01,  5.02424240e-01, -3.10927749e-01,  1.98009610e-01,\n",
       "         6.19462311e-01,  4.75554019e-02,  1.95781067e-01,  2.23835364e-01,\n",
       "         4.73150045e-01, -1.80268317e-01, -3.63177538e-01, -5.54827377e-02,\n",
       "         4.98170048e-01,  4.87676598e-02,  4.05488104e-01,  3.16249765e-03,\n",
       "         1.72745183e-01,  4.86247195e-03,  3.26767787e-02, -5.66256464e-01,\n",
       "        -5.51275969e-01,  3.21173444e-02,  3.14967990e-01,  4.28647906e-01,\n",
       "         1.16983755e-02,  2.41640329e-01,  2.73211211e-01, -5.09157479e-01,\n",
       "        -5.50787508e-01, -4.94782001e-01,  2.44622342e-02, -3.68795127e-01,\n",
       "        -1.76945046e-01, -7.24064186e-02,  2.25761339e-01,  1.22403972e-01,\n",
       "         5.85143626e-01,  5.69525480e-01, -3.72452497e-01,  1.51087977e-02,\n",
       "         1.21117122e-01,  5.53724706e-01, -2.09682181e-01, -2.37642348e-01,\n",
       "        -3.83321077e-01,  4.68910038e-01, -1.89885423e-01, -2.09381640e-01,\n",
       "        -1.81467608e-02,  3.76879890e-03,  1.94467604e-02, -1.68744475e-02,\n",
       "        -1.96709111e-02,  1.97477154e-02,  1.99064240e-02, -1.95570253e-02,\n",
       "        -2.95433313e-01,  1.43955544e-01,  3.07628326e-03,  5.29374421e-01,\n",
       "        -2.56634563e-01, -1.47640020e-01,  3.92761767e-01, -1.35362685e-01,\n",
       "         5.79199970e-01, -2.35947981e-01,  1.32509219e-02, -1.57005310e-01,\n",
       "         3.05476516e-01,  2.16877773e-01, -3.31442773e-01,  3.93688023e-01,\n",
       "        -4.29996066e-02, -1.74798727e-01, -8.69957358e-03,  4.06184196e-01,\n",
       "         6.03993058e-01,  3.17205727e-01,  1.22275695e-01,  3.82774234e-01,\n",
       "        -2.75653034e-01, -3.00661445e-01, -1.73690334e-01, -3.78691941e-01,\n",
       "         2.82023162e-01,  3.84385027e-02, -2.29479119e-01, -4.58552800e-02,\n",
       "        -2.95077097e-02,  5.43672264e-01,  5.30744195e-01, -4.51802790e-01,\n",
       "         2.44234726e-01,  2.43768170e-01,  2.18895927e-01, -6.54739141e-02,\n",
       "         1.68899998e-01,  1.34399876e-01,  6.02150500e-01, -5.78567803e-01,\n",
       "        -2.38817319e-01, -4.25709307e-01, -2.82957405e-01,  1.13272592e-01,\n",
       "         3.65012407e-01, -4.82466042e-01,  3.79654348e-01,  5.23276985e-01,\n",
       "        -2.85552770e-01,  1.24292828e-01, -2.96593487e-01,  1.46300897e-01,\n",
       "        -3.03809315e-01, -2.23476797e-01, -4.23587084e-01, -4.91840124e-01,\n",
       "         5.08639753e-01, -9.47957858e-02, -3.08302790e-02, -2.84910768e-01,\n",
       "         1.23827472e-01, -1.23660654e-01, -1.01640627e-01, -1.48035467e-01,\n",
       "        -1.51632041e-01,  1.99713796e-01, -1.69795364e-01, -1.03270113e-02,\n",
       "        -5.60697503e-02,  9.46499929e-02,  3.52753326e-02, -1.76296249e-01,\n",
       "         1.78684324e-01, -1.85663059e-01,  3.89432460e-02, -3.58197093e-02,\n",
       "        -6.68280721e-02,  1.58633888e-01,  1.91882551e-01,  4.60948125e-02,\n",
       "        -9.21065882e-02,  1.32734135e-01,  1.08407274e-01,  5.61911054e-02,\n",
       "        -4.94155027e-02,  5.41249616e-03,  1.70555294e-01,  1.14681935e-02,\n",
       "        -5.49805835e-02, -1.53891683e-01, -9.00211111e-02,  1.33081853e-01,\n",
       "        -2.65737399e-02,  5.28511219e-03,  9.94446054e-02, -1.14753269e-01,\n",
       "         5.23555651e-03, -3.74278575e-02,  8.86536241e-02,  1.85313180e-01,\n",
       "         1.23649843e-01,  1.34348303e-01, -1.62957251e-01, -5.75691424e-02,\n",
       "         6.68413984e-03, -1.93180308e-01,  4.33763862e-02, -1.21449873e-01,\n",
       "         7.48434961e-02,  1.80769682e-01, -1.77987874e-01,  1.56049415e-01,\n",
       "         7.64273927e-02, -1.15983494e-01,  2.05983341e-01, -1.90828845e-01,\n",
       "        -1.43546790e-01, -8.92959982e-02,  8.42084456e-03,  1.68092214e-02,\n",
       "        -7.88760781e-02, -1.74299598e-01, -1.34308264e-02,  1.44937247e-01,\n",
       "         1.40109941e-01,  1.22194186e-01,  4.96328697e-02,  3.07586975e-02,\n",
       "        -1.77336276e-01,  7.25530833e-02, -1.83880359e-01, -1.03171274e-01,\n",
       "        -7.34419823e-02,  1.39084429e-01, -2.39366665e-02, -7.54908845e-02,\n",
       "         5.38913868e-02, -1.83474123e-01, -7.12541342e-02,  7.41292015e-02,\n",
       "        -3.35299075e-02, -2.47594435e-03,  1.04766674e-01, -1.74516708e-01,\n",
       "        -8.36827010e-02,  2.17554420e-01,  5.98657578e-02, -5.29574715e-02,\n",
       "         8.73216987e-02,  1.42720878e-01, -1.65324770e-02, -6.74346834e-02,\n",
       "        -1.51413251e-02,  5.78291789e-02, -4.37541939e-02,  1.36293814e-01,\n",
       "        -1.49811611e-01, -1.17836401e-01,  1.37908176e-01,  8.17409623e-03,\n",
       "         2.55574062e-02,  5.35481498e-02, -3.21831219e-02, -9.77024063e-02,\n",
       "         6.51126057e-02, -3.62919942e-02, -7.43507966e-02,  4.02893461e-02,\n",
       "         3.90543789e-02, -3.10106073e-02, -1.28303006e-01, -4.97223288e-02,\n",
       "        -1.07774116e-01,  9.76904109e-02, -1.21774726e-01,  1.75680622e-01,\n",
       "         6.22001216e-02, -1.82580531e-01,  1.39196843e-01, -1.89380690e-01,\n",
       "        -3.10997739e-02, -1.08982213e-01, -1.92505062e-01,  6.62810728e-03,\n",
       "        -7.97185004e-02,  1.66836649e-01, -1.42829552e-01,  1.52021453e-01,\n",
       "         1.32162154e-01,  1.68796062e-01, -6.77348226e-02, -1.33125409e-01,\n",
       "        -1.23819873e-01,  1.78363562e-01, -8.29044729e-02, -3.63045111e-02,\n",
       "        -1.24300495e-02,  4.06574756e-02, -1.84008643e-01,  1.48904771e-01,\n",
       "        -1.58451378e-01,  2.16434002e-01, -6.66292310e-02, -1.06152289e-01,\n",
       "        -1.22003295e-02,  4.45080213e-02, -2.98887528e-02, -2.20054999e-01,\n",
       "         1.27179533e-01,  1.85839236e-01,  1.21589996e-01,  1.83641642e-01,\n",
       "         5.24145253e-02, -3.50756687e-03, -1.49528816e-01, -1.67428836e-01,\n",
       "        -1.55814976e-01, -6.43065572e-02,  1.01564527e-01, -7.02565908e-02,\n",
       "         3.00409365e-03, -1.81108285e-02, -1.18058100e-01,  1.01714917e-02,\n",
       "         2.16881245e-01,  1.48574144e-01,  1.39994740e-01, -4.76230728e-03,\n",
       "         2.25328319e-02,  1.16711773e-01, -7.04866722e-02, -9.30929556e-02,\n",
       "         1.54886156e-01, -6.50384091e-03, -1.29505843e-01,  1.60190403e-01,\n",
       "         5.38716204e-02,  8.92587975e-02, -1.89097598e-01,  2.27653850e-02,\n",
       "         1.43904686e-01, -9.90248844e-03, -1.13423228e-01,  1.52623907e-01,\n",
       "         1.13903135e-01,  3.85950655e-02,  2.83715799e-02, -1.51656652e-02,\n",
       "         1.20209150e-01, -2.46962924e-02, -1.00799344e-01,  5.85585646e-02,\n",
       "         7.43518025e-02,  5.79746217e-02, -1.20509174e-02, -1.45919481e-02,\n",
       "        -4.68109176e-03,  3.43299955e-02, -1.68973088e-01, -1.77655265e-01,\n",
       "         5.64560257e-02, -9.18951705e-02,  2.53845658e-03,  7.60437846e-02,\n",
       "         8.61690380e-03,  1.12555660e-01,  3.00428532e-02,  7.01395050e-02,\n",
       "        -3.46465968e-02,  4.57856767e-02,  8.55174735e-02,  1.54459551e-01,\n",
       "        -1.75062910e-01, -1.05003104e-01, -1.95774421e-01, -6.71439469e-02,\n",
       "         1.37830198e-01, -2.10287794e-01, -1.76165283e-01,  1.27658620e-01,\n",
       "        -1.00536630e-01,  1.37715057e-01,  5.25029339e-02,  6.34260476e-02,\n",
       "         1.64787009e-01, -1.96966156e-01,  1.68891743e-01,  8.60453621e-02,\n",
       "        -1.56651422e-01,  2.97921896e-02, -7.68311024e-02, -6.20109737e-02,\n",
       "        -4.18260507e-02, -7.63898790e-02,  1.96179345e-01,  1.95593506e-01,\n",
       "        -4.80529433e-03, -1.77676097e-01, -2.55779121e-02,  3.34825031e-02,\n",
       "         1.56034261e-01,  1.66170057e-02,  3.99165526e-02,  3.47792283e-02,\n",
       "        -1.33644402e-01, -1.07443161e-01, -1.64567381e-01, -2.08473802e-02,\n",
       "         5.92322424e-02, -7.01628905e-03,  1.80288568e-01, -5.82236014e-02,\n",
       "        -1.46278650e-01,  2.09160503e-02, -3.78682017e-02, -4.79890443e-02,\n",
       "         2.14182049e-01, -1.75434314e-02,  1.61696762e-01,  9.53030866e-03,\n",
       "        -6.53847083e-02,  1.67397201e-01, -9.62635949e-02, -1.25259440e-02,\n",
       "         6.58592209e-02,  7.16166273e-02, -1.69061556e-01,  1.65289231e-02,\n",
       "        -7.27034584e-02,  1.12441361e-01,  4.87920679e-02,  1.01814404e-01,\n",
       "         1.17046528e-01, -4.13809493e-02, -3.05287205e-02,  1.70246288e-01,\n",
       "        -1.45291343e-01, -1.21234365e-01, -5.07294200e-03, -6.46552816e-02,\n",
       "         2.19523553e-02,  1.73829228e-01, -4.05510105e-02, -1.91356644e-01,\n",
       "        -1.11142613e-01,  2.04016417e-01, -2.48872302e-02, -1.06726728e-01,\n",
       "         7.95615241e-02,  3.70087326e-02, -1.98150903e-01,  1.51021242e-01,\n",
       "         1.28940195e-01,  1.92515939e-01,  6.99294955e-02, -6.15985133e-02,\n",
       "        -5.16066365e-02,  9.11839008e-02, -5.68876341e-02,  2.27426253e-02,\n",
       "        -1.81871563e-01, -8.42972845e-02,  9.36578140e-02, -2.76837274e-02,\n",
       "        -8.20076391e-02, -1.93404168e-01,  1.49745911e-01, -5.44665754e-02,\n",
       "        -2.17074484e-01,  1.78324431e-01,  1.09899215e-01, -1.28823981e-01,\n",
       "        -1.67692631e-01,  2.16496825e-01, -8.11626203e-03, -1.03369534e-01,\n",
       "         1.34604543e-01, -2.31809057e-02,  2.05234550e-02, -8.73252228e-02,\n",
       "        -1.91254809e-01, -1.40787944e-01, -3.31934951e-02, -1.28588721e-01,\n",
       "         2.17007667e-01,  2.00046562e-02, -9.78992060e-02,  9.96960998e-02,\n",
       "        -1.98887825e-01, -8.68048519e-02,  6.79474249e-02, -1.79256886e-01,\n",
       "         1.21365748e-01,  2.56841872e-02, -1.62209526e-01, -2.09211931e-01,\n",
       "         4.45036292e-02,  1.16280034e-01, -2.12500952e-02, -1.60506591e-01,\n",
       "        -9.77000073e-02,  2.64426321e-03,  1.76775642e-03,  7.09994137e-02,\n",
       "         1.60797890e-02, -2.68940739e-02,  1.04731381e-01,  2.16719478e-01,\n",
       "         1.88610002e-01,  1.90270737e-01, -8.86629224e-02, -5.03694192e-02,\n",
       "        -3.65309902e-02,  7.20989555e-02,  6.50809482e-02, -1.43295340e-02,\n",
       "        -1.14020288e-01, -1.57020658e-01,  2.15288758e-01, -5.11020571e-02,\n",
       "        -3.22782993e-02, -1.13108218e-01, -8.34025741e-02,  2.66197007e-02,\n",
       "         6.68722987e-02, -7.40913451e-02, -6.20983690e-02,  1.45624146e-01,\n",
       "        -8.59628245e-02, -1.72303274e-01, -1.25736846e-02,  2.11518466e-01,\n",
       "         2.44996920e-02,  8.21679272e-03, -4.50936295e-02,  1.47364214e-01,\n",
       "        -8.31980854e-02,  1.19555876e-01,  2.82274038e-02,  2.87634879e-03,\n",
       "         1.92346536e-02, -1.07312314e-01,  1.66602910e-01,  8.76530036e-02,\n",
       "        -1.40155286e-01, -2.02966005e-01, -7.24031329e-02,  1.54075623e-01,\n",
       "        -1.14095740e-01,  2.08967894e-01, -1.18233748e-01, -2.04024374e-01,\n",
       "         7.14975670e-02, -1.03667811e-01, -5.19796424e-02, -8.21932480e-02,\n",
       "        -1.09829102e-03, -1.63093045e-01, -1.67953983e-01,  6.80108443e-02,\n",
       "         9.82104838e-01,  9.88660336e-01,  9.80001867e-01,  1.02001214e+00,\n",
       "         9.84212101e-01,  1.01099694e+00,  9.84631598e-01,  9.83618677e-01,\n",
       "         1.00918365e+00,  1.01924944e+00,  9.80638862e-01,  1.01912832e+00,\n",
       "         9.79992807e-01,  1.01839459e+00,  1.01901162e+00,  9.80930507e-01,\n",
       "         1.97978765e-02,  5.10668429e-03,  1.98324751e-02,  1.65307634e-02,\n",
       "         1.48389563e-02,  1.07124019e-02,  1.98964700e-02, -1.97956748e-02,\n",
       "        -1.97646245e-02, -1.86515227e-02,  1.99022386e-02, -1.99409928e-02,\n",
       "         1.87411085e-02,  1.35424715e-02,  2.00116560e-02, -7.03019183e-03,\n",
       "        -2.33434290e-02, -1.32561833e-01,  1.03669968e-02, -2.32690319e-01,\n",
       "         7.85881579e-02,  1.11880392e-01,  2.23547816e-01, -1.92705452e-01,\n",
       "        -1.36274491e-02,  1.51166752e-01,  2.09989727e-01, -1.96820378e-01,\n",
       "         9.64974537e-02,  1.08214691e-01,  1.69684723e-01, -1.64057031e-01,\n",
       "         1.63731828e-01, -1.28034309e-01, -1.67584166e-01,  3.08830626e-02,\n",
       "         1.94092855e-01, -1.85214624e-01,  1.16018608e-01, -1.80143602e-02,\n",
       "         9.79237035e-02,  2.14792147e-01,  4.80752289e-02, -2.27126762e-01,\n",
       "        -9.38074142e-02,  3.09879910e-02, -2.29576573e-01,  6.03537560e-02,\n",
       "        -1.27341300e-01, -3.03825140e-02,  1.05839320e-01, -2.19945878e-01,\n",
       "        -1.41953230e-01,  9.41223130e-02, -2.29017600e-01,  1.55238271e-01,\n",
       "        -2.11048439e-01,  1.47690233e-02,  7.09520802e-02,  1.16177194e-01,\n",
       "        -1.35179877e-01,  5.15815653e-02,  1.27441317e-01,  1.95825040e-01,\n",
       "        -2.07849652e-01, -1.18707269e-01,  6.38432950e-02, -2.72284970e-02,\n",
       "        -1.84829876e-01, -2.22249687e-01, -2.37387553e-01, -1.56050250e-01,\n",
       "        -1.24033831e-01, -1.63983956e-01, -2.39325136e-01,  1.24803614e-02,\n",
       "         1.34373456e-01, -1.32845849e-01,  5.57036139e-03,  1.39170792e-02,\n",
       "         9.71117169e-02, -1.92794174e-01, -7.43505824e-03,  2.52605677e-01,\n",
       "         1.58554971e-01, -2.28123099e-01, -2.97810957e-02, -9.54341516e-03,\n",
       "        -6.39869273e-02, -1.82209849e-01, -1.93787992e-01,  1.72692478e-01,\n",
       "        -9.93252173e-02, -3.46803293e-02,  5.34970462e-02, -1.63348451e-01,\n",
       "         2.91146617e-03,  1.28864348e-01, -1.66031405e-01,  9.25452560e-02,\n",
       "        -2.78472267e-02,  1.57266781e-01,  1.52509078e-01,  8.35856721e-02,\n",
       "         2.69402135e-02, -2.35219538e-01,  7.99140185e-02,  1.33275792e-01,\n",
       "        -1.07841499e-01, -2.67565608e-01,  1.83023304e-01, -4.26819436e-02,\n",
       "         3.00387070e-02, -9.00012553e-02,  1.39527723e-01,  2.63833255e-01,\n",
       "         1.36730492e-01, -5.96828833e-02,  1.56916335e-01,  1.11297645e-01,\n",
       "         4.40915339e-02, -2.20937908e-01, -1.26887113e-01, -2.67168850e-01,\n",
       "         1.48628503e-01,  2.36287519e-01,  1.26161635e-01,  6.11330196e-02,\n",
       "         7.08126724e-02,  2.21560180e-01, -1.07469819e-01, -9.98245031e-02,\n",
       "        -2.13939190e-01, -3.23255062e-02,  3.41975014e-03,  8.28388929e-02,\n",
       "        -1.64751887e-01, -2.14359127e-02, -1.94095269e-01, -2.16075242e-01,\n",
       "         2.72889994e-02, -2.32827678e-01,  7.72531480e-02, -2.16517910e-01,\n",
       "        -1.54382512e-01, -3.18721160e-02, -2.18746498e-01,  1.81896746e-01,\n",
       "         2.22627118e-01, -1.50585711e-01,  3.94463167e-02,  1.45427078e-01,\n",
       "         5.97835481e-02, -5.29792458e-02, -2.16214150e-01,  1.78671136e-01,\n",
       "        -1.99471712e-01, -4.99648005e-02,  3.53936926e-02, -6.49776533e-02,\n",
       "        -8.05795193e-02, -2.08300799e-01,  2.42214389e-02, -4.22986597e-02,\n",
       "         2.06135422e-01, -8.78194273e-02,  1.77196547e-01,  2.94231102e-02,\n",
       "        -1.07755274e-01, -4.66379635e-02, -1.58999506e-02, -7.75552774e-03,\n",
       "        -6.10336401e-02,  6.38984665e-02,  1.88217625e-01,  5.71086667e-02,\n",
       "         7.17966035e-02,  1.36067256e-01,  3.49379294e-02,  1.34921551e-01,\n",
       "         1.13660902e-01,  2.52838343e-01, -2.47149050e-01,  1.03502333e-01,\n",
       "         7.40293972e-03, -6.37112111e-02, -1.14732660e-01,  1.32410109e-01,\n",
       "         2.09349468e-01, -2.21509889e-01,  1.16529316e-01,  1.89409807e-01,\n",
       "         2.43845116e-02, -1.61431599e-02,  2.06144691e-01,  1.17678009e-03,\n",
       "        -8.15840140e-02, -9.62735619e-04,  9.83547270e-02,  6.55990690e-02,\n",
       "        -3.23950723e-02,  5.99647313e-02,  8.63217041e-02, -2.22501248e-01,\n",
       "         8.22646394e-02,  1.34251267e-01,  8.82640481e-03, -1.51415095e-02,\n",
       "         2.11111397e-01, -2.14724630e-01, -1.00439020e-01, -1.29484355e-01,\n",
       "         1.96618855e-01, -2.51050621e-01,  8.48588906e-03, -2.26067469e-01,\n",
       "        -2.52684802e-02,  7.46671408e-02, -5.06996214e-02,  2.31843948e-01,\n",
       "        -8.52758437e-03, -1.47414640e-01,  6.87258318e-02,  1.48429543e-01,\n",
       "        -1.48460148e-02,  2.03826129e-01, -1.74459293e-01,  1.22064337e-01,\n",
       "         1.23634510e-01,  1.34816021e-01,  1.39250997e-02,  5.64654768e-02,\n",
       "        -2.08576933e-01, -2.10400358e-01, -3.01543009e-02, -2.63191033e-02,\n",
       "         1.91321597e-01,  2.01215297e-01,  1.63567394e-01, -9.45449322e-02,\n",
       "        -2.16272578e-01, -2.30478540e-01,  8.20531324e-02, -2.44003996e-01,\n",
       "        -2.69549638e-01, -1.45692095e-01, -2.30701357e-01, -8.10571015e-02,\n",
       "        -1.74638778e-01, -1.31186634e-01,  2.17874020e-01, -6.03863820e-02,\n",
       "         1.90603867e-01, -1.30740963e-02, -5.11206836e-02, -5.41110709e-02,\n",
       "        -1.93910256e-01, -2.06614122e-01,  1.54315993e-01, -5.75670190e-02,\n",
       "        -2.33748704e-01,  2.13053167e-01,  1.94979236e-02, -1.82971939e-01,\n",
       "        -2.06183419e-01, -2.25071311e-01, -2.33383775e-01,  2.37601906e-01,\n",
       "         1.78686321e-01,  3.52576673e-02, -2.29162097e-01, -7.98451155e-02,\n",
       "        -2.40091264e-01,  1.04627937e-01, -8.43606144e-02, -3.71825881e-02,\n",
       "        -5.81089593e-02,  1.36846468e-01,  1.55166000e-01,  4.42579724e-02,\n",
       "        -5.11815511e-02, -3.50291170e-02,  1.39750531e-02, -1.67818040e-01,\n",
       "         2.39188999e-01, -9.41738486e-02,  1.65317267e-01, -1.25024617e-01,\n",
       "         1.01871979e+00,  9.80176747e-01,  9.81809139e-01,  1.02000320e+00,\n",
       "         9.82302070e-01,  9.81337845e-01,  1.02001095e+00,  1.02001321e+00,\n",
       "         9.80700493e-01,  9.91564810e-01,  9.83179867e-01,  9.82101381e-01,\n",
       "         1.01999366e+00,  1.00266457e+00,  1.01980817e+00,  1.00614750e+00,\n",
       "        -1.91029012e-02, -1.90060884e-02,  1.91274080e-02, -1.93189569e-02,\n",
       "         1.91135556e-02, -1.86842382e-02,  1.94620006e-02, -1.92952212e-02,\n",
       "        -1.91312209e-02, -1.88977830e-02,  1.52426530e-02,  1.90671608e-02,\n",
       "        -1.93456598e-02,  1.93134211e-02, -1.93318520e-02,  1.93257853e-02,\n",
       "         2.13821232e-02,  6.56676292e-02, -2.11316004e-01,  1.34658128e-01,\n",
       "        -1.73704028e-01,  1.57440640e-02, -6.95307776e-02,  1.63314760e-01,\n",
       "         2.23632008e-01,  4.88779843e-02,  9.24309902e-03, -1.05925605e-01,\n",
       "         1.13178752e-01, -1.23003826e-01,  1.23136543e-01, -1.14804178e-01,\n",
       "         1.50383815e-01], grad_fn=<CatBackward0>)"
      ]
     },
     "execution_count": 4,
     "metadata": {},
     "output_type": "execute_result"
    }
   ],
   "source": [
    "torch.nn.utils.parameters_to_vector(irl_trainer.reward_fn.parameters())"
   ]
  },
  {
   "cell_type": "code",
   "execution_count": 3,
   "metadata": {},
   "outputs": [
    {
     "name": "stdout",
     "output_type": "stream",
     "text": [
      "2.5537092e-05 0.005769608\n",
      "tensor(2.5537e-05) tensor(0.0058)\n"
     ]
    }
   ],
   "source": [
    "import numpy as np\n",
    "import torch\n",
    "torch.set_float32_matmul_precision(\"highest\")\n",
    "\n",
    "rng = np.random.RandomState(1)\n",
    "dataset1 = rng.uniform(low=-0.01, high=0.01, size=(1000, 20)).astype(np.float32)\n",
    "dataset2 = torch.from_numpy(dataset1)\n",
    "print(dataset1.mean(), dataset1.std())\n",
    "print(dataset2.mean(), dataset2.std())"
   ]
  }
 ],
 "metadata": {
  "kernelspec": {
   "display_name": "torch-env-conda-py38",
   "language": "python",
   "name": "python3"
  },
  "language_info": {
   "codemirror_mode": {
    "name": "ipython",
    "version": 3
   },
   "file_extension": ".py",
   "mimetype": "text/x-python",
   "name": "python",
   "nbconvert_exporter": "python",
   "pygments_lexer": "ipython3",
   "version": "3.8.10"
  },
  "orig_nbformat": 4
 },
 "nbformat": 4,
 "nbformat_minor": 2
}
